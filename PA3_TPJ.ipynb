{
 "cells": [
  {
   "cell_type": "markdown",
   "id": "09f7ae7c",
   "metadata": {},
   "source": [
    "# Ty Johnson\n",
    "# Assignment 3\n",
    "# Spring 23\n",
    "# Version 1"
   ]
  },
  {
   "cell_type": "code",
   "execution_count": 13,
   "id": "7a9b622a",
   "metadata": {},
   "outputs": [
    {
     "data": {
      "text/plain": [
       "['ty', 'john', 'brad', 'samuel']"
      ]
     },
     "execution_count": 13,
     "metadata": {},
     "output_type": "execute_result"
    }
   ],
   "source": [
    "example =  ['ty','john','brad','samuel']\n",
    "example #creating a list to use"
   ]
  },
  {
   "cell_type": "markdown",
   "id": "9f59dc5c",
   "metadata": {},
   "source": [
    "### append() will add an element to the end of a list"
   ]
  },
  {
   "cell_type": "code",
   "execution_count": 14,
   "id": "277bb12d",
   "metadata": {},
   "outputs": [
    {
     "data": {
      "text/plain": [
       "['ty', 'john', 'brad', 'samuel', 'george']"
      ]
     },
     "execution_count": 14,
     "metadata": {},
     "output_type": "execute_result"
    }
   ],
   "source": [
    "example.append('george')\n",
    "example"
   ]
  },
  {
   "cell_type": "markdown",
   "id": "e6b5cceb",
   "metadata": {},
   "source": [
    "### extend() will add elements of a list to the end of the current list, I am creating a new list and then adding the first example one"
   ]
  },
  {
   "cell_type": "code",
   "execution_count": 15,
   "id": "b34e8418",
   "metadata": {},
   "outputs": [
    {
     "name": "stdout",
     "output_type": "stream",
     "text": [
      "['Sasha', 'Sophia', 'Lydia', 'Veronica']\n",
      "['Sasha', 'Sophia', 'Lydia', 'Veronica', 'ty', 'john', 'brad', 'samuel', 'george']\n"
     ]
    }
   ],
   "source": [
    "exampleTwo = ['Sasha', 'Sophia', 'Lydia', 'Veronica']\n",
    "print(exampleTwo)\n",
    "exampleTwo.extend(example)\n",
    "print(exampleTwo)"
   ]
  },
  {
   "cell_type": "markdown",
   "id": "56bd4206",
   "metadata": {},
   "source": [
    "### insert(position, 'element') will add an element at a specified index position, here I am adding the name Frank to the beginning of the first list "
   ]
  },
  {
   "cell_type": "code",
   "execution_count": 16,
   "id": "9488098f",
   "metadata": {},
   "outputs": [
    {
     "data": {
      "text/plain": [
       "['Frank', 'ty', 'john', 'brad', 'samuel', 'george']"
      ]
     },
     "execution_count": 16,
     "metadata": {},
     "output_type": "execute_result"
    }
   ],
   "source": [
    "example.insert(0, 'Frank')\n",
    "example"
   ]
  },
  {
   "cell_type": "markdown",
   "id": "0dfe58db",
   "metadata": {},
   "source": [
    "### remove() will remove the first element with the specified value, now I will remove Frank"
   ]
  },
  {
   "cell_type": "code",
   "execution_count": 17,
   "id": "b4612413",
   "metadata": {},
   "outputs": [
    {
     "name": "stdout",
     "output_type": "stream",
     "text": [
      "['Frank', 'ty', 'john', 'brad', 'samuel', 'george']\n",
      "['ty', 'john', 'brad', 'samuel', 'george']\n"
     ]
    }
   ],
   "source": [
    "print(example)\n",
    "example.remove('Frank')\n",
    "print(example)"
   ]
  },
  {
   "cell_type": "markdown",
   "id": "3d93e9b8",
   "metadata": {},
   "source": [
    "### count will return the number of elements with a specified value"
   ]
  },
  {
   "cell_type": "code",
   "execution_count": 18,
   "id": "670bf829",
   "metadata": {},
   "outputs": [
    {
     "data": {
      "text/plain": [
       "4"
      ]
     },
     "execution_count": 18,
     "metadata": {},
     "output_type": "execute_result"
    }
   ],
   "source": [
    "numbers = [1,1,1,2,3,4,6,2,2,6,2]\n",
    "numbers.count(2)"
   ]
  },
  {
   "cell_type": "markdown",
   "id": "f501cccc",
   "metadata": {},
   "source": [
    "### index will return the index of the first element with the specified value. I will be finding out which index position john is in"
   ]
  },
  {
   "cell_type": "code",
   "execution_count": 19,
   "id": "5be50b99",
   "metadata": {},
   "outputs": [
    {
     "data": {
      "text/plain": [
       "1"
      ]
     },
     "execution_count": 19,
     "metadata": {},
     "output_type": "execute_result"
    }
   ],
   "source": [
    "example.index('john')"
   ]
  },
  {
   "cell_type": "markdown",
   "id": "3a0520a3",
   "metadata": {},
   "source": [
    "### pop() will either remove the last element of the list if left empty, or remove an element at a specified position"
   ]
  },
  {
   "cell_type": "code",
   "execution_count": 21,
   "id": "c06ec345",
   "metadata": {},
   "outputs": [
    {
     "name": "stdout",
     "output_type": "stream",
     "text": [
      "['Sasha', 'Sophia', 'Lydia', 'Veronica', 'ty', 'john', 'brad', 'samuel']\n",
      "['Sasha', 'Sophia', 'Lydia', 'Veronica', 'ty', 'john', 'brad']\n",
      "['Sophia', 'Lydia', 'Veronica', 'ty', 'john', 'brad']\n"
     ]
    }
   ],
   "source": [
    "print(exampleTwo)\n",
    "exampleTwo.pop()\n",
    "print(exampleTwo)\n",
    "# will remove george since in last position\n",
    "exampleTwo.pop(0)\n",
    "print(exampleTwo) #removes sophia at index 0"
   ]
  },
  {
   "cell_type": "markdown",
   "id": "a2aeb1e3",
   "metadata": {},
   "source": [
    "### sorted() will sort a list temporarily "
   ]
  },
  {
   "cell_type": "code",
   "execution_count": 24,
   "id": "6d05e5fe",
   "metadata": {},
   "outputs": [
    {
     "data": {
      "text/plain": [
       "[0, 2, 3, 5, 10, 28]"
      ]
     },
     "execution_count": 24,
     "metadata": {},
     "output_type": "execute_result"
    }
   ],
   "source": [
    "sort = [10,5,2,3,0,28]\n",
    "sorted(sort)"
   ]
  },
  {
   "cell_type": "markdown",
   "id": "23ea6108",
   "metadata": {},
   "source": [
    "### copy() returns the copy of a list. Use [ : ] so it will not mess up when adding more to the original list"
   ]
  },
  {
   "cell_type": "code",
   "execution_count": 26,
   "id": "47b89530",
   "metadata": {},
   "outputs": [
    {
     "name": "stdout",
     "output_type": "stream",
     "text": [
      "[1, 2, 4, 8, 16]\n",
      "[1, 2, 4, 8, 16, 32] [1, 2, 4, 8, 16]\n"
     ]
    }
   ],
   "source": [
    "copyOne = [1,2,4,8,16]\n",
    "copyTwo = copyOne[:]\n",
    "print(copyTwo)\n",
    "copyOne.append(32)\n",
    "print(copyOne, copyTwo)"
   ]
  },
  {
   "cell_type": "markdown",
   "id": "2c4a2858",
   "metadata": {},
   "source": [
    "### clear will remove all elements from a list"
   ]
  },
  {
   "cell_type": "code",
   "execution_count": 28,
   "id": "40f91637",
   "metadata": {},
   "outputs": [
    {
     "data": {
      "text/plain": [
       "[]"
      ]
     },
     "execution_count": 28,
     "metadata": {},
     "output_type": "execute_result"
    }
   ],
   "source": [
    "copyOne.clear()\n",
    "copyOne"
   ]
  },
  {
   "cell_type": "markdown",
   "id": "a4dd0615",
   "metadata": {},
   "source": [
    "### list() will create a list object"
   ]
  },
  {
   "cell_type": "code",
   "execution_count": 46,
   "id": "26705a4a",
   "metadata": {},
   "outputs": [
    {
     "name": "stdout",
     "output_type": "stream",
     "text": [
      "('hello', 'goodbye')\n"
     ]
    },
    {
     "data": {
      "text/plain": [
       "['hello', 'goodbye']"
      ]
     },
     "execution_count": 46,
     "metadata": {},
     "output_type": "execute_result"
    }
   ],
   "source": [
    "var = 'hello', 'goodbye'\n",
    "print(var)\n",
    "list(var)"
   ]
  },
  {
   "cell_type": "markdown",
   "id": "d8a82cdc",
   "metadata": {},
   "source": [
    "### len() will return the length within a list or tuple"
   ]
  },
  {
   "cell_type": "code",
   "execution_count": 47,
   "id": "c73e492b",
   "metadata": {},
   "outputs": [
    {
     "name": "stdout",
     "output_type": "stream",
     "text": [
      "5 , 3\n"
     ]
    }
   ],
   "source": [
    "tupleTwo = (1,2,3,4,5)\n",
    "listThree = (2,4,6)\n",
    "print(len(tupleTwo),',',len(listThree))"
   ]
  },
  {
   "cell_type": "markdown",
   "id": "a16eed5d",
   "metadata": {},
   "source": [
    "### max() will provide the maximum value within a list or tuple, while min() will provide the minimum"
   ]
  },
  {
   "cell_type": "code",
   "execution_count": 48,
   "id": "9dbdd8d1",
   "metadata": {},
   "outputs": [
    {
     "name": "stdout",
     "output_type": "stream",
     "text": [
      "112\n",
      "10\n"
     ]
    }
   ],
   "source": [
    "data = [12,54,67,10,112,46,40]\n",
    "print(max(data))\n",
    "print(min(data))"
   ]
  }
 ],
 "metadata": {
  "kernelspec": {
   "display_name": "Python 3 (ipykernel)",
   "language": "python",
   "name": "python3"
  },
  "language_info": {
   "codemirror_mode": {
    "name": "ipython",
    "version": 3
   },
   "file_extension": ".py",
   "mimetype": "text/x-python",
   "name": "python",
   "nbconvert_exporter": "python",
   "pygments_lexer": "ipython3",
   "version": "3.9.13"
  }
 },
 "nbformat": 4,
 "nbformat_minor": 5
}
